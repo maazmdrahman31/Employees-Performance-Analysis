{
 "cells": [
  {
   "cell_type": "code",
   "execution_count": 1,
   "id": "50362644-be2e-4f95-9176-5653a2addf85",
   "metadata": {},
   "outputs": [],
   "source": [
    "import pandas as pd\n",
    "import matplotlib.pyplot as plt\n",
    "import seaborn as sns\n",
    "import numpy as np"
   ]
  },
  {
   "cell_type": "markdown",
   "id": "fea3227e-b3e3-414e-84b7-0aec2932fe61",
   "metadata": {},
   "source": [
    "# File 1 Associate ABC"
   ]
  },
  {
   "cell_type": "code",
   "execution_count": 198,
   "id": "fe42ce0f-8c54-4a56-a268-2f7b9bbfbecd",
   "metadata": {},
   "outputs": [],
   "source": [
    "# load the data of Associate ABC"
   ]
  },
  {
   "cell_type": "code",
   "execution_count": 199,
   "id": "2168a20c-45f4-41dc-868e-98063483986e",
   "metadata": {},
   "outputs": [
    {
     "data": {
      "text/html": [
       "<div>\n",
       "<style scoped>\n",
       "    .dataframe tbody tr th:only-of-type {\n",
       "        vertical-align: middle;\n",
       "    }\n",
       "\n",
       "    .dataframe tbody tr th {\n",
       "        vertical-align: top;\n",
       "    }\n",
       "\n",
       "    .dataframe thead th {\n",
       "        text-align: right;\n",
       "    }\n",
       "</style>\n",
       "<table border=\"1\" class=\"dataframe\">\n",
       "  <thead>\n",
       "    <tr style=\"text-align: right;\">\n",
       "      <th></th>\n",
       "      <th>Date</th>\n",
       "      <th>Day</th>\n",
       "      <th>No of Leads</th>\n",
       "      <th>Time Spent on LG (in mins)</th>\n",
       "      <th>Attendance</th>\n",
       "    </tr>\n",
       "  </thead>\n",
       "  <tbody>\n",
       "    <tr>\n",
       "      <th>0</th>\n",
       "      <td>2023-01-09</td>\n",
       "      <td>Monday</td>\n",
       "      <td>2.0</td>\n",
       "      <td>300.0</td>\n",
       "      <td>Present</td>\n",
       "    </tr>\n",
       "    <tr>\n",
       "      <th>1</th>\n",
       "      <td>2023-01-10</td>\n",
       "      <td>Tuesday</td>\n",
       "      <td>1.0</td>\n",
       "      <td>300.0</td>\n",
       "      <td>Present</td>\n",
       "    </tr>\n",
       "    <tr>\n",
       "      <th>2</th>\n",
       "      <td>2023-01-11</td>\n",
       "      <td>Wednesday</td>\n",
       "      <td>5.0</td>\n",
       "      <td>300.0</td>\n",
       "      <td>Present</td>\n",
       "    </tr>\n",
       "    <tr>\n",
       "      <th>3</th>\n",
       "      <td>2023-01-12</td>\n",
       "      <td>Thursday</td>\n",
       "      <td>4.0</td>\n",
       "      <td>300.0</td>\n",
       "      <td>Present</td>\n",
       "    </tr>\n",
       "    <tr>\n",
       "      <th>4</th>\n",
       "      <td>2023-01-13</td>\n",
       "      <td>Friday</td>\n",
       "      <td>5.0</td>\n",
       "      <td>300.0</td>\n",
       "      <td>Present</td>\n",
       "    </tr>\n",
       "  </tbody>\n",
       "</table>\n",
       "</div>"
      ],
      "text/plain": [
       "        Date        Day  No of Leads  Time Spent on LG (in mins) Attendance\n",
       "0 2023-01-09     Monday          2.0                       300.0    Present\n",
       "1 2023-01-10    Tuesday          1.0                       300.0    Present\n",
       "2 2023-01-11  Wednesday          5.0                       300.0    Present\n",
       "3 2023-01-12   Thursday          4.0                       300.0    Present\n",
       "4 2023-01-13     Friday          5.0                       300.0    Present"
      ]
     },
     "execution_count": 199,
     "metadata": {},
     "output_type": "execute_result"
    }
   ],
   "source": [
    "df_ABC = pd.read_excel(\"Data Assignment.xlsx\",sheet_name=0)\n",
    "df_ABC.head()"
   ]
  },
  {
   "cell_type": "code",
   "execution_count": 200,
   "id": "3265784c-400a-4409-b91d-413849b11645",
   "metadata": {},
   "outputs": [
    {
     "name": "stdout",
     "output_type": "stream",
     "text": [
      "df_ABC.shape: (82, 5)\n"
     ]
    }
   ],
   "source": [
    "print(\"df_ABC.shape:\",df_ABC.shape)"
   ]
  },
  {
   "cell_type": "code",
   "execution_count": 201,
   "id": "d33919e3-6271-44b5-9c77-205f6e9c45dd",
   "metadata": {},
   "outputs": [],
   "source": [
    "df_ABC = df_ABC.loc[df_ABC['Attendance']!='Holiday']"
   ]
  },
  {
   "cell_type": "code",
   "execution_count": 202,
   "id": "5f683a54-c12e-4c61-8991-4f906aedd5b3",
   "metadata": {},
   "outputs": [
    {
     "name": "stdout",
     "output_type": "stream",
     "text": [
      "df_ABC.shape: (60, 5)\n"
     ]
    }
   ],
   "source": [
    "print(\"df_ABC.shape:\",df_ABC.shape)"
   ]
  },
  {
   "cell_type": "code",
   "execution_count": 203,
   "id": "7d199398-2450-4d29-9544-5543d92290fd",
   "metadata": {},
   "outputs": [
    {
     "name": "stdout",
     "output_type": "stream",
     "text": [
      "Associate ABC\n",
      "Date\n",
      "False    60\n",
      "Name: count, dtype: int64\n",
      "\n",
      "Day\n",
      "False    60\n",
      "Name: count, dtype: int64\n",
      "\n",
      "No of Leads\n",
      "False    48\n",
      "True     12\n",
      "Name: count, dtype: int64\n",
      "\n",
      "Time Spent on LG (in mins)\n",
      "False    58\n",
      "True      2\n",
      "Name: count, dtype: int64\n",
      "\n",
      "Attendance\n",
      "False    60\n",
      "Name: count, dtype: int64\n",
      "\n"
     ]
    }
   ],
   "source": [
    "# check if there are any missing values\n",
    "print(\"Associate ABC\")\n",
    "for i in df_ABC.columns:\n",
    "    print(df_ABC[i].isnull().value_counts())\n",
    "    print() "
   ]
  },
  {
   "cell_type": "markdown",
   "id": "39a3e32d-d86c-4e71-9eb2-97771e143571",
   "metadata": {},
   "source": [
    "#### Basic Statistics on No of Leads of ABC"
   ]
  },
  {
   "cell_type": "code",
   "execution_count": 204,
   "id": "e7f3c1d2-5bc8-483f-80ed-5b37ab785352",
   "metadata": {},
   "outputs": [
    {
     "name": "stdout",
     "output_type": "stream",
     "text": [
      "max No of Leads of ABC: 15.0\n",
      "min No of Leads of ABC: 0.0\n",
      "mean No of Leads of ABC: 6.541666666666667\n",
      "median No of Leads of ABC: 6.0\n",
      "mode No of Leads of ABC: 0    4.0\n",
      "Name: No of Leads, dtype: float64\n"
     ]
    }
   ],
   "source": [
    "print(\"max No of Leads of ABC:\",df_ABC['No of Leads'].max())\n",
    "print(\"min No of Leads of ABC:\",df_ABC['No of Leads'].min())\n",
    "print(\"mean No of Leads of ABC:\",df_ABC['No of Leads'].mean())\n",
    "print(\"median No of Leads of ABC:\",df_ABC['No of Leads'].median())\n",
    "print(\"mode No of Leads of ABC:\",df_ABC['No of Leads'].mode())"
   ]
  },
  {
   "cell_type": "markdown",
   "id": "6781bd62-335e-4d9c-a829-585b50fd2978",
   "metadata": {},
   "source": [
    "#### Filling Missing Data of No of Leads of ABC"
   ]
  },
  {
   "cell_type": "code",
   "execution_count": 205,
   "id": "0bb06a4d-862c-4f5c-947d-7fdd207ab992",
   "metadata": {},
   "outputs": [],
   "source": [
    "# Filling missing values using median\n",
    "df_ABC.replace({'No of Leads':{0:6.0,np.nan:6.0}},inplace=True)"
   ]
  },
  {
   "cell_type": "code",
   "execution_count": 206,
   "id": "4ae9f434-023f-4ca6-b63e-a1145fa6cfb5",
   "metadata": {},
   "outputs": [
    {
     "data": {
      "text/plain": [
       "No of Leads\n",
       "6.0     17\n",
       "4.0      7\n",
       "10.0     6\n",
       "5.0      5\n",
       "7.0      4\n",
       "1.0      3\n",
       "3.0      3\n",
       "9.0      3\n",
       "8.0      3\n",
       "15.0     3\n",
       "2.0      2\n",
       "12.0     2\n",
       "11.0     1\n",
       "14.0     1\n",
       "Name: count, dtype: int64"
      ]
     },
     "execution_count": 206,
     "metadata": {},
     "output_type": "execute_result"
    }
   ],
   "source": [
    "df_ABC['No of Leads'].value_counts()"
   ]
  },
  {
   "cell_type": "markdown",
   "id": "10c514a9-6aaf-48f4-8b03-f7a62ab03ce1",
   "metadata": {},
   "source": [
    "#### Basic statistics on Time Spent on LG (in mins) of ABC"
   ]
  },
  {
   "cell_type": "code",
   "execution_count": 207,
   "id": "9195d27e-404a-4a27-bac7-a952cf51f0c2",
   "metadata": {},
   "outputs": [
    {
     "data": {
      "text/plain": [
       "Time Spent on LG (in mins)\n",
       "300.0    27\n",
       "540.0     8\n",
       "360.0     6\n",
       "0.0       3\n",
       "400.0     3\n",
       "5.0       2\n",
       "15.0      2\n",
       "390.0     1\n",
       "60.0      1\n",
       "420.0     1\n",
       "12.0      1\n",
       "4.0       1\n",
       "2.0       1\n",
       "14.0      1\n",
       "Name: count, dtype: int64"
      ]
     },
     "execution_count": 207,
     "metadata": {},
     "output_type": "execute_result"
    }
   ],
   "source": [
    "df_ABC['Time Spent on LG (in mins)'].value_counts()"
   ]
  },
  {
   "cell_type": "code",
   "execution_count": 208,
   "id": "eaf9808e-fd26-4501-bb66-0715b3354a89",
   "metadata": {},
   "outputs": [
    {
     "name": "stdout",
     "output_type": "stream",
     "text": [
      "Min time spent on LG ABC: 0.0\n",
      "Max time spent on LG ABC: 540.0\n",
      "Mean time spent on LG ABC: 288.3103448275862\n",
      "Median time spent on LG ABC: 300.0\n",
      "Mode time spent on LG ABC: 0    300.0\n",
      "Name: Time Spent on LG (in mins), dtype: float64\n"
     ]
    }
   ],
   "source": [
    "print(\"Min time spent on LG ABC:\",df_ABC['Time Spent on LG (in mins)'].min())\n",
    "print(\"Max time spent on LG ABC:\",df_ABC['Time Spent on LG (in mins)'].max())\n",
    "print(\"Mean time spent on LG ABC:\",df_ABC['Time Spent on LG (in mins)'].mean())\n",
    "print(\"Median time spent on LG ABC:\",df_ABC['Time Spent on LG (in mins)'].median())\n",
    "print(\"Mode time spent on LG ABC:\",df_ABC['Time Spent on LG (in mins)'].mode())"
   ]
  },
  {
   "cell_type": "markdown",
   "id": "180c6665-ca79-4f19-a5cc-0b38170f29f7",
   "metadata": {},
   "source": [
    "#### Filling missing data of Time Spent on LG (in mins) of ABC"
   ]
  },
  {
   "cell_type": "code",
   "execution_count": 209,
   "id": "081241b1-737e-4579-9038-cd37231e6c51",
   "metadata": {},
   "outputs": [],
   "source": [
    "df_ABC.replace({'Time Spent on LG (in mins)':{0:300,np.nan:300}},inplace=True)"
   ]
  },
  {
   "cell_type": "code",
   "execution_count": 210,
   "id": "3bd15e2a-6977-44ee-8c55-bdbcfae226b7",
   "metadata": {},
   "outputs": [
    {
     "name": "stdout",
     "output_type": "stream",
     "text": [
      "Date\n",
      "False    60\n",
      "Name: count, dtype: int64\n",
      "\n",
      "Day\n",
      "False    60\n",
      "Name: count, dtype: int64\n",
      "\n",
      "No of Leads\n",
      "False    60\n",
      "Name: count, dtype: int64\n",
      "\n",
      "Time Spent on LG (in mins)\n",
      "False    60\n",
      "Name: count, dtype: int64\n",
      "\n",
      "Attendance\n",
      "False    60\n",
      "Name: count, dtype: int64\n",
      "\n"
     ]
    }
   ],
   "source": [
    "for i in df_ABC.columns:\n",
    "    print(df_ABC[i].isnull().value_counts())\n",
    "    print()"
   ]
  },
  {
   "cell_type": "markdown",
   "id": "f424b308-1f51-4704-bb03-f25f7477f6b2",
   "metadata": {},
   "source": [
    "#### Performing analysis of Associate ABC"
   ]
  },
  {
   "cell_type": "code",
   "execution_count": 211,
   "id": "82aff0f4-9537-4286-80ba-c7e727363900",
   "metadata": {},
   "outputs": [
    {
     "data": {
      "text/plain": [
       "404.0"
      ]
     },
     "execution_count": 211,
     "metadata": {},
     "output_type": "execute_result"
    }
   ],
   "source": [
    "# Q1. Total No of Leads generated by Associate ABC\n",
    "df_ABC['No of Leads'].sum()"
   ]
  },
  {
   "cell_type": "code",
   "execution_count": 212,
   "id": "cae94da2-2db1-4cdd-a5b1-106771e62d11",
   "metadata": {},
   "outputs": [],
   "source": [
    "# Q2. Leaves taken by Associate ABC\n",
    "d_ABC = df_ABC['Attendance'].value_counts()"
   ]
  },
  {
   "cell_type": "code",
   "execution_count": 213,
   "id": "53e7b6c1-eba6-4f61-8029-00b2eb223f65",
   "metadata": {},
   "outputs": [
    {
     "data": {
      "text/plain": [
       "6.733333333333333"
      ]
     },
     "execution_count": 213,
     "metadata": {},
     "output_type": "execute_result"
    }
   ],
   "source": [
    "# Q3. Average number of leads Generated by Associate ABC\n",
    "df_ABC['No of Leads'].mean()"
   ]
  },
  {
   "cell_type": "code",
   "execution_count": 214,
   "id": "19c37ccb-371a-4848-af59-ae5892d53f7c",
   "metadata": {},
   "outputs": [],
   "source": [
    "# Q4. Which Associate has been the most consistent in Lead Generation"
   ]
  },
  {
   "cell_type": "markdown",
   "id": "5416aec7-cf48-4267-b34f-8cac0434bbe7",
   "metadata": {},
   "source": [
    "# File 2 Associate XYZ"
   ]
  },
  {
   "cell_type": "code",
   "execution_count": 215,
   "id": "3c17c599-603d-4a99-ad7d-44774413e188",
   "metadata": {},
   "outputs": [
    {
     "name": "stdout",
     "output_type": "stream",
     "text": [
      "        Date        Day  No of Leads  Time Spent on LG (in mins) Attendance\n",
      "0 2023-01-09     Monday         10.0                       180.0    Present\n",
      "1 2023-01-10    Tuesday         15.0                       300.0    Present\n",
      "2 2023-01-11  Wednesday         11.0                       300.0    Present\n",
      "3 2023-01-12   Thursday         11.0                       300.0    Present\n",
      "4 2023-01-13     Friday         13.0                       300.0    Present\n",
      "df_XYZ.shape: (61, 5)\n",
      "df_XYZ.shape: (45, 5)\n",
      "Associate XYZ\n",
      "Date\n",
      "False    45\n",
      "Name: count, dtype: int64\n",
      "\n",
      "Day\n",
      "False    45\n",
      "Name: count, dtype: int64\n",
      "\n",
      "No of Leads\n",
      "False    41\n",
      "True      4\n",
      "Name: count, dtype: int64\n",
      "\n",
      "Time Spent on LG (in mins)\n",
      "False    41\n",
      "True      4\n",
      "Name: count, dtype: int64\n",
      "\n",
      "Attendance\n",
      "False    45\n",
      "Name: count, dtype: int64\n",
      "\n",
      "max No of Leads of XYZ: 15.0\n",
      "min No of Leads of XYZ: 7.0\n",
      "mean No of Leads of XYZ: 10.853658536585366\n",
      "median No of Leads of XYZ: 10.0\n",
      "mode No of Leads of XYZ: 0    10.0\n",
      "Name: No of Leads, dtype: float64\n",
      "max Time Spent on LG (in mins) of XYZ: 600.0\n",
      "min Time Spent on LG (in mins) of XYZ: 180.0\n",
      "mean Time Spent on LG (in mins) of XYZ: 387.0731707317073\n",
      "median Time Spent on LG (in mins) of XYZ: 420.0\n",
      "mode Time Spent on LG (in mins) of XYZ: 0    420.0\n",
      "Name: Time Spent on LG (in mins), dtype: float64\n",
      "485.0\n",
      "Attendance\n",
      "Present    41\n",
      "Absent      4\n",
      "Name: count, dtype: int64\n",
      "10.777777777777779\n"
     ]
    }
   ],
   "source": [
    "df_XYZ = pd.read_excel(\"Data Assignment.xlsx\",sheet_name=1)\n",
    "print(df_XYZ.head())\n",
    "\n",
    "print(\"df_XYZ.shape:\",df_XYZ.shape)\n",
    "\n",
    "df_XYZ = df_XYZ.loc[df_XYZ['Attendance']!='Holiday']\n",
    "\n",
    "print(\"df_XYZ.shape:\",df_XYZ.shape)\n",
    "\n",
    "# check if there are any missing values\n",
    "print(\"Associate XYZ\")\n",
    "for i in df_XYZ.columns:\n",
    "    print(df_XYZ[i].isnull().value_counts())\n",
    "    print()\n",
    "\n",
    "#### Basic statistics on No of Leads of XYZ\n",
    "print(\"max No of Leads of XYZ:\",df_XYZ['No of Leads'].max())\n",
    "print(\"min No of Leads of XYZ:\",df_XYZ['No of Leads'].min())\n",
    "print(\"mean No of Leads of XYZ:\",df_XYZ['No of Leads'].mean())\n",
    "print(\"median No of Leads of XYZ:\",df_XYZ['No of Leads'].median())\n",
    "print(\"mode No of Leads of XYZ:\",df_XYZ['No of Leads'].mode())\n",
    "\n",
    "#### Basic Statistics on Time Spent on LG (in mins) of XYZ\n",
    "print(\"max Time Spent on LG (in mins) of XYZ:\",df_XYZ['Time Spent on LG (in mins)'].max())\n",
    "print(\"min Time Spent on LG (in mins) of XYZ:\",df_XYZ['Time Spent on LG (in mins)'].min())\n",
    "print(\"mean Time Spent on LG (in mins) of XYZ:\",df_XYZ['Time Spent on LG (in mins)'].mean())\n",
    "print(\"median Time Spent on LG (in mins) of XYZ:\",df_XYZ['Time Spent on LG (in mins)'].median())\n",
    "print(\"mode Time Spent on LG (in mins) of XYZ:\",df_XYZ['Time Spent on LG (in mins)'].mode())\n",
    "\n",
    "#### Filling missing data of No of Leads and Time Spent on LG (in mins) of XYZ\n",
    "df_XYZ.replace({'No of Leads':{np.nan:10},'Time Spent on LG (in mins)':{np.nan:420}},inplace=True)\n",
    "\n",
    "#### Performance analysis of Associate XYZ\n",
    "# Q1. Total No of Leads generated by Associate XYZ\n",
    "print(df_XYZ['No of Leads'].sum())\n",
    "\n",
    "# Q2. Leaves taken by Associate XYZ\n",
    "d_XYZ = df_XYZ['Attendance'].value_counts()\n",
    "print(d_XYZ)\n",
    "\n",
    "# Q3. Average number of leads Generated by Associate XYZ\n",
    "print(df_XYZ['No of Leads'].mean())"
   ]
  },
  {
   "cell_type": "markdown",
   "id": "e3a2b6da-e4f1-4a1e-8c4a-b72aac4fa188",
   "metadata": {},
   "source": [
    "# File 3 Associate KLM"
   ]
  },
  {
   "cell_type": "code",
   "execution_count": 216,
   "id": "b4284290-cc38-41b1-a403-a1de7dee01f6",
   "metadata": {},
   "outputs": [
    {
     "name": "stdout",
     "output_type": "stream",
     "text": [
      "        Date        Day  No of Leads  Time Spent on LG Attendance\n",
      "0 2023-01-09     Monday          6.0             540.0    Present\n",
      "1 2023-01-10    Tuesday          9.0             540.0    Present\n",
      "2 2023-01-11  Wednesday          NaN               NaN     Absent\n",
      "3 2023-01-12   Thursday         11.0             540.0    Present\n",
      "4 2023-01-13     Friday         16.0             540.0    Present\n",
      "df_KLM.shape: (124, 5)\n",
      "df_KLM.shape: (90, 5)\n",
      "Associate KLM\n",
      "Date\n",
      "False    90\n",
      "Name: count, dtype: int64\n",
      "\n",
      "Day\n",
      "False    90\n",
      "Name: count, dtype: int64\n",
      "\n",
      "No of Leads\n",
      "False    77\n",
      "True     13\n",
      "Name: count, dtype: int64\n",
      "\n",
      "Time Spent on LG\n",
      "False    76\n",
      "True     14\n",
      "Name: count, dtype: int64\n",
      "\n",
      "Attendance\n",
      "False    90\n",
      "Name: count, dtype: int64\n",
      "\n",
      "max No of Leads of KLM: 17.0\n",
      "min No of Leads of KLM: 2.0\n",
      "mean No of Leads of KLM: 9.675324675324676\n",
      "median No of Leads of KLM: 10.0\n",
      "mode No of Leads of KLM: 0    15.0\n",
      "Name: No of Leads, dtype: float64\n",
      "max Time Spent on LG (in mins) of KLM: 540.0\n",
      "min Time Spent on LG (in mins) of KLM: 180.0\n",
      "mean Time Spent on LG (in mins) of KLM: 381.44736842105266\n",
      "median Time Spent on LG (in mins) of KLM: 360.0\n",
      "mode Time Spent on LG (in mins) of KLM: 0    300.0\n",
      "Name: Time Spent on LG, dtype: float64\n",
      "875.0\n",
      "Attendance\n",
      "Present    76\n",
      "Absent     14\n",
      "Name: count, dtype: int64\n",
      "9.722222222222221\n"
     ]
    }
   ],
   "source": [
    "df_KLM = pd.read_excel(\"Data Assignment.xlsx\",sheet_name=2)\n",
    "print(df_KLM.head())\n",
    "\n",
    "print(\"df_KLM.shape:\",df_KLM.shape)\n",
    "\n",
    "df_KLM = df_KLM.loc[df_KLM['Attendance']!='Holiday']\n",
    "\n",
    "print(\"df_KLM.shape:\",df_KLM.shape)\n",
    "\n",
    "#### Check if there are any missing values\n",
    "print(\"Associate KLM\")\n",
    "for i in df_KLM.columns:\n",
    "    print(df_KLM[i].isnull().value_counts())\n",
    "    print()\n",
    "\n",
    "#### Basic Statistics on No of Leads of KLM\n",
    "print(\"max No of Leads of KLM:\",df_KLM['No of Leads'].max())\n",
    "print(\"min No of Leads of KLM:\",df_KLM['No of Leads'].min())\n",
    "print(\"mean No of Leads of KLM:\",df_KLM['No of Leads'].mean())\n",
    "print(\"median No of Leads of KLM:\",df_KLM['No of Leads'].median())\n",
    "print(\"mode No of Leads of KLM:\",df_KLM['No of Leads'].mode())\n",
    "\n",
    "#### Basic Statistics on Time Spent on LG (in mins) of KLM\n",
    "print(\"max Time Spent on LG (in mins) of KLM:\",df_KLM['Time Spent on LG'].max())\n",
    "print(\"min Time Spent on LG (in mins) of KLM:\",df_KLM['Time Spent on LG'].min())\n",
    "print(\"mean Time Spent on LG (in mins) of KLM:\",df_KLM['Time Spent on LG'].mean())\n",
    "print(\"median Time Spent on LG (in mins) of KLM:\",df_KLM['Time Spent on LG'].median())\n",
    "print(\"mode Time Spent on LG (in mins) of KLM:\",df_KLM['Time Spent on LG'].mode())\n",
    "\n",
    "#### Filling missing data of No of Leads and Time Spent on LG (in mins) of KLM\n",
    "df_KLM.replace({'No of Leads':{np.nan:10},'Time Spent on LG':{np.nan:381}},inplace=True)\n",
    "\n",
    "#### Performance analysis of Associate KLM\n",
    "# Q1. Total No of Leads generated by Associate KLM\n",
    "print(df_KLM['No of Leads'].sum())\n",
    "\n",
    "# Q2. Leaves taken by Associate KLM\n",
    "d_KLM = df_KLM['Attendance'].value_counts()\n",
    "print(d_KLM)\n",
    "\n",
    "# Q3. Average number of leads Generated by Associate KLM\n",
    "print(df_KLM['No of Leads'].mean())"
   ]
  },
  {
   "cell_type": "markdown",
   "id": "412009ad-c365-4da9-a999-4c88c5eddbb6",
   "metadata": {},
   "source": [
    "#### Which Associate has been the most consistent (ABC,XYZ,KLM)"
   ]
  },
  {
   "cell_type": "markdown",
   "id": "156d3b22-73c1-42fa-90a8-3a86f5f0ee69",
   "metadata": {},
   "source": [
    "##### ABC"
   ]
  },
  {
   "cell_type": "code",
   "execution_count": 217,
   "id": "a4262361-171e-4d0f-aa2d-c6beea4684cb",
   "metadata": {},
   "outputs": [
    {
     "data": {
      "text/plain": [
       "<Axes: title={'center': 'Performance of Associate ABC'}, xlabel='No of Leads', ylabel='Time Spent on LG (in mins)'>"
      ]
     },
     "execution_count": 217,
     "metadata": {},
     "output_type": "execute_result"
    },
    {
     "data": {
      "image/png": "[encoded data removed]",
      "text/plain": [
       "<Figure size 600x400 with 1 Axes>"
      ]
     },
     "metadata": {},
     "output_type": "display_data"
    }
   ],
   "source": [
    "plt.figure(figsize=(6,4))\n",
    "plt.title('Performance of Associate ABC')\n",
    "sns.lineplot(x='No of Leads',y='Time Spent on LG (in mins)',data=df_ABC)"
   ]
  },
  {
   "cell_type": "markdown",
   "id": "69cf3349-2e42-48be-b334-f58920de8797",
   "metadata": {},
   "source": [
    "##### XYZ"
   ]
  },
  {
   "cell_type": "code",
   "execution_count": 218,
   "id": "0b5bc567-8ae6-4ea1-8276-9ec248c5262c",
   "metadata": {},
   "outputs": [
    {
     "data": {
      "text/plain": [
       "<Axes: title={'center': 'Performance of Associate XYZ'}, xlabel='No of Leads', ylabel='Time Spent on LG (in mins)'>"
      ]
     },
     "execution_count": 218,
     "metadata": {},
     "output_type": "execute_result"
    },
    {
     "data": {
      "image/png": "[encoded data removed]",
      "text/plain": [
       "<Figure size 600x400 with 1 Axes>"
      ]
     },
     "metadata": {},
     "output_type": "display_data"
    }
   ],
   "source": [
    "plt.figure(figsize=(6,4))\n",
    "plt.title('Performance of Associate XYZ')\n",
    "sns.lineplot(x='No of Leads',y='Time Spent on LG (in mins)',data=df_XYZ)"
   ]
  },
  {
   "cell_type": "markdown",
   "id": "ef4ca0d1-2b52-4b9b-8845-8ec4afcaed8f",
   "metadata": {},
   "source": [
    "##### KLM"
   ]
  },
  {
   "cell_type": "code",
   "execution_count": 219,
   "id": "489b561a-21f0-4e98-b155-167e2f29351c",
   "metadata": {},
   "outputs": [
    {
     "data": {
      "text/plain": [
       "<Axes: title={'center': 'Performance of Associate KLM'}, xlabel='No of Leads', ylabel='Time Spent on LG'>"
      ]
     },
     "execution_count": 219,
     "metadata": {},
     "output_type": "execute_result"
    },
    {
     "data": {
      "image/png": "[encoded data removed]",
      "text/plain": [
       "<Figure size 600x400 with 1 Axes>"
      ]
     },
     "metadata": {},
     "output_type": "display_data"
    }
   ],
   "source": [
    "plt.figure(figsize=(6,4))\n",
    "plt.title('Performance of Associate KLM')\n",
    "sns.lineplot(x='No of Leads',y='Time Spent on LG',data=df_KLM)"
   ]
  },
  {
   "cell_type": "code",
   "execution_count": 230,
   "id": "032a2276-2a68-4776-b5ae-746b57e98ef7",
   "metadata": {},
   "outputs": [
    {
     "data": {
      "text/plain": [
       "3.3892485376138346"
      ]
     },
     "execution_count": 230,
     "metadata": {},
     "output_type": "execute_result"
    }
   ],
   "source": [
    "df_ABC['No of Leads'].std()"
   ]
  },
  {
   "cell_type": "code",
   "execution_count": 231,
   "id": "f1283b4a-e745-45c9-bddd-6d7d5d73ffb9",
   "metadata": {},
   "outputs": [
    {
     "data": {
      "text/plain": [
       "3.687293023032326"
      ]
     },
     "execution_count": 231,
     "metadata": {},
     "output_type": "execute_result"
    }
   ],
   "source": [
    "df_KLM['No of Leads'].std()"
   ]
  },
  {
   "cell_type": "code",
   "execution_count": 232,
   "id": "e56f6b34-04fc-49f4-a74c-5cd9e20aed26",
   "metadata": {},
   "outputs": [
    {
     "data": {
      "text/plain": [
       "2.448458595718844"
      ]
     },
     "execution_count": 232,
     "metadata": {},
     "output_type": "execute_result"
    }
   ],
   "source": [
    "df_XYZ['No of Leads'].std()"
   ]
  },
  {
   "cell_type": "code",
   "execution_count": 233,
   "id": "110f87b1-909a-46dc-a10b-e044e988c27a",
   "metadata": {},
   "outputs": [],
   "source": [
    "a = pd.Series([3.38,3.68,2.44])"
   ]
  },
  {
   "cell_type": "code",
   "execution_count": 234,
   "id": "306887b9-1d06-47bf-b12c-7f358668a488",
   "metadata": {},
   "outputs": [
    {
     "data": {
      "text/plain": [
       "2"
      ]
     },
     "execution_count": 234,
     "metadata": {},
     "output_type": "execute_result"
    }
   ],
   "source": [
    "a.idxmin()"
   ]
  },
  {
   "cell_type": "code",
   "execution_count": 235,
   "id": "ce3c0cc3-5fba-4172-ba93-0cbaef9d0919",
   "metadata": {},
   "outputs": [
    {
     "data": {
      "text/plain": [
       "404.0"
      ]
     },
     "execution_count": 235,
     "metadata": {},
     "output_type": "execute_result"
    }
   ],
   "source": [
    "df_ABC['No of Leads'].sum()"
   ]
  },
  {
   "cell_type": "code",
   "execution_count": 236,
   "id": "08d2608f-76b4-43b2-8089-85fc2cbc7412",
   "metadata": {},
   "outputs": [
    {
     "data": {
      "text/plain": [
       "485.0"
      ]
     },
     "execution_count": 236,
     "metadata": {},
     "output_type": "execute_result"
    }
   ],
   "source": [
    "df_XYZ['No of Leads'].sum()"
   ]
  },
  {
   "cell_type": "code",
   "execution_count": 237,
   "id": "688d0c87-b76a-4d5e-89b7-988db90fcf59",
   "metadata": {},
   "outputs": [
    {
     "data": {
      "text/plain": [
       "875.0"
      ]
     },
     "execution_count": 237,
     "metadata": {},
     "output_type": "execute_result"
    }
   ],
   "source": [
    "df_KLM['No of Leads'].sum()"
   ]
  },
  {
   "cell_type": "code",
   "execution_count": 245,
   "id": "961e1569-9c08-478a-be2e-4bfc00bb55e5",
   "metadata": {
    "scrolled": true
   },
   "outputs": [
    {
     "data": {
      "image/png": "[encoded data removed]",
      "text/plain": [
       "<Figure size 300x400 with 1 Axes>"
      ]
     },
     "metadata": {},
     "output_type": "display_data"
    }
   ],
   "source": [
    "plt.figure(figsize=(3,4))\n",
    "plt.title(\"Total leads generated by each Associate\")\n",
    "plt.xlabel(\"Associate\")\n",
    "plt.ylabel(\"Total Leads\")\n",
    "ax = sns.barplot(x=['ABC','XYZ','KLM'],y=[404,485,875])\n",
    "for i in ax.containers:\n",
    "    ax.bar_label(i)"
   ]
  },
  {
   "cell_type": "code",
   "execution_count": 246,
   "id": "1c5e05ba-2068-4b34-a9c5-80f863b5140f",
   "metadata": {},
   "outputs": [
    {
     "data": {
      "text/plain": [
       "Attendance\n",
       "Present    55\n",
       "Absent      5\n",
       "Name: count, dtype: int64"
      ]
     },
     "execution_count": 246,
     "metadata": {},
     "output_type": "execute_result"
    }
   ],
   "source": [
    "df_ABC['Attendance'].value_counts()"
   ]
  },
  {
   "cell_type": "code",
   "execution_count": 247,
   "id": "9c9b5ffd-98a4-4451-a870-a18a0c0e93cb",
   "metadata": {},
   "outputs": [
    {
     "data": {
      "text/plain": [
       "Attendance\n",
       "Present    41\n",
       "Absent      4\n",
       "Name: count, dtype: int64"
      ]
     },
     "execution_count": 247,
     "metadata": {},
     "output_type": "execute_result"
    }
   ],
   "source": [
    "df_XYZ['Attendance'].value_counts()"
   ]
  },
  {
   "cell_type": "code",
   "execution_count": 248,
   "id": "6ff09e12-e4ba-40ac-81bf-a2a3be6686bd",
   "metadata": {},
   "outputs": [
    {
     "data": {
      "text/plain": [
       "Attendance\n",
       "Present    76\n",
       "Absent     14\n",
       "Name: count, dtype: int64"
      ]
     },
     "execution_count": 248,
     "metadata": {},
     "output_type": "execute_result"
    }
   ],
   "source": [
    "df_KLM['Attendance'].value_counts()"
   ]
  },
  {
   "cell_type": "code",
   "execution_count": 249,
   "id": "91466b8d-ed69-4346-b29f-cff0599dfba8",
   "metadata": {},
   "outputs": [
    {
     "data": {
      "image/png": "[encoded data removed]",
      "text/plain": [
       "<Figure size 300x400 with 1 Axes>"
      ]
     },
     "metadata": {},
     "output_type": "display_data"
    }
   ],
   "source": [
    "plt.figure(figsize=(3,4))\n",
    "plt.title(\"Total leaves taken by each Associate\")\n",
    "plt.xlabel(\"Associate\")\n",
    "plt.ylabel(\"Total Leads\")\n",
    "ax = sns.barplot(x=['ABC','XYZ','KLM'],y=[5,4,14])\n",
    "for i in ax.containers:\n",
    "    ax.bar_label(i)"
   ]
  },
  {
   "cell_type": "code",
   "execution_count": 250,
   "id": "ae58de4a-a530-4133-9038-555807ef4298",
   "metadata": {},
   "outputs": [
    {
     "data": {
      "text/plain": [
       "9.722222222222221"
      ]
     },
     "execution_count": 250,
     "metadata": {},
     "output_type": "execute_result"
    }
   ],
   "source": [
    "df_KLM['No of Leads'].mean()"
   ]
  },
  {
   "cell_type": "code",
   "execution_count": 251,
   "id": "370b3194-643e-4b5d-a22d-60e4144930df",
   "metadata": {},
   "outputs": [
    {
     "data": {
      "text/plain": [
       "6.733333333333333"
      ]
     },
     "execution_count": 251,
     "metadata": {},
     "output_type": "execute_result"
    }
   ],
   "source": [
    "df_ABC['No of Leads'].mean()"
   ]
  },
  {
   "cell_type": "code",
   "execution_count": 252,
   "id": "b4d484a9-1ca3-4d27-8e87-108c1e0e5d92",
   "metadata": {},
   "outputs": [
    {
     "data": {
      "text/plain": [
       "10.777777777777779"
      ]
     },
     "execution_count": 252,
     "metadata": {},
     "output_type": "execute_result"
    }
   ],
   "source": [
    "df_XYZ['No of Leads'].mean()"
   ]
  },
  {
   "cell_type": "code",
   "execution_count": 253,
   "id": "18ffb35a-b859-4ea0-b3a5-83fa07416f3e",
   "metadata": {},
   "outputs": [
    {
     "data": {
      "image/png": "[encoded data removed]",
      "text/plain": [
       "<Figure size 300x400 with 1 Axes>"
      ]
     },
     "metadata": {},
     "output_type": "display_data"
    }
   ],
   "source": [
    "plt.figure(figsize=(3,4))\n",
    "plt.title(\"Average leads generated by each Associate\")\n",
    "plt.xlabel(\"Associate\")\n",
    "plt.ylabel(\"Total Leads\")\n",
    "ax = sns.barplot(x=['ABC','XYZ','KLM'],y=[6.73,10.77,9.72])\n",
    "for i in ax.containers:\n",
    "    ax.bar_label(i)"
   ]
  },
  {
   "cell_type": "code",
   "execution_count": null,
   "id": "eb1f5b86-5570-4f16-8d24-148205663bc6",
   "metadata": {},
   "outputs": [],
   "source": []
  }
 ],
 "metadata": {
  "kernelspec": {
   "display_name": "Python 3 (ipykernel)",
   "language": "python",
   "name": "python3"
  },
  "language_info": {
   "codemirror_mode": {
    "name": "ipython",
    "version": 3
   },
   "file_extension": ".py",
   "mimetype": "text/x-python",
   "name": "python",
   "nbconvert_exporter": "python",
   "pygments_lexer": "ipython3",
   "version": "3.11.4"
  }
 },
 "nbformat": 4,
 "nbformat_minor": 5
}
