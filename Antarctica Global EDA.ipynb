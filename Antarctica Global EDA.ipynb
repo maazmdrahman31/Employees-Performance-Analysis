{
 "cells": [
  {
   "cell_type": "code",
   "execution_count": 1,
   "id": "a26bd977-da34-4296-a685-9902d37bec8f",
   "metadata": {},
   "outputs": [],
   "source": [
    "import pandas as pd\n",
    "import matplotlib.pyplot as plt\n",
    "import seaborn as sns"
   ]
  },
  {
   "cell_type": "code",
   "execution_count": 2,
   "id": "1f60426e-d8ed-450c-8ec7-75039e924d2b",
   "metadata": {},
   "outputs": [],
   "source": [
    "# reading file 1,2 and 3 from the workbook\n",
    "df_0 = pd.read_excel(\"Data Assignment.xlsx\",sheet_name=0)\n",
    "# df_0.head()\n",
    "\n",
    "df_1 = pd.read_excel(\"Data Assignment.xlsx\",sheet_name=1)\n",
    "\n",
    "df_2 = pd.read_excel(\"Data Assignment.xlsx\",sheet_name=2)"
   ]
  },
  {
   "cell_type": "markdown",
   "id": "c2379c0a-451c-4e12-a58d-47bb20fa2bf9",
   "metadata": {},
   "source": [
    "## Working with file 1 Associate ABC"
   ]
  },
  {
   "cell_type": "markdown",
   "id": "1fcf162e-3fd5-4f1c-b0d7-9a49285fa86f",
   "metadata": {},
   "source": [
    "#### Q1. Basic Statistics"
   ]
  },
  {
   "cell_type": "code",
   "execution_count": 3,
   "id": "99550f90-12df-4b36-ae96-b2c29c8c61b3",
   "metadata": {},
   "outputs": [
    {
     "data": {
      "text/plain": [
       "(82, 5)"
      ]
     },
     "execution_count": 3,
     "metadata": {},
     "output_type": "execute_result"
    }
   ],
   "source": [
    "df_0.shape"
   ]
  },
  {
   "cell_type": "code",
   "execution_count": 4,
   "id": "8f631bd2-1a1b-49da-b850-fffabf982b7c",
   "metadata": {},
   "outputs": [
    {
     "name": "stdout",
     "output_type": "stream",
     "text": [
      "<class 'pandas.core.frame.DataFrame'>\n",
      "RangeIndex: 82 entries, 0 to 81\n",
      "Data columns (total 5 columns):\n",
      " #   Column                      Non-Null Count  Dtype         \n",
      "---  ------                      --------------  -----         \n",
      " 0   Date                        82 non-null     datetime64[ns]\n",
      " 1   Day                         82 non-null     object        \n",
      " 2   No of Leads                 48 non-null     float64       \n",
      " 3   Time Spent on LG (in mins)  58 non-null     float64       \n",
      " 4   Attendance                  82 non-null     object        \n",
      "dtypes: datetime64[ns](1), float64(2), object(2)\n",
      "memory usage: 3.3+ KB\n"
     ]
    }
   ],
   "source": [
    "df_0.info()"
   ]
  },
  {
   "cell_type": "code",
   "execution_count": 5,
   "id": "409a36ea-d91f-48fe-8066-2afdd11f39ad",
   "metadata": {},
   "outputs": [
    {
     "data": {
      "text/html": [
       "<div>\n",
       "<style scoped>\n",
       "    .dataframe tbody tr th:only-of-type {\n",
       "        vertical-align: middle;\n",
       "    }\n",
       "\n",
       "    .dataframe tbody tr th {\n",
       "        vertical-align: top;\n",
       "    }\n",
       "\n",
       "    .dataframe thead th {\n",
       "        text-align: right;\n",
       "    }\n",
       "</style>\n",
       "<table border=\"1\" class=\"dataframe\">\n",
       "  <thead>\n",
       "    <tr style=\"text-align: right;\">\n",
       "      <th></th>\n",
       "      <th>Date</th>\n",
       "      <th>No of Leads</th>\n",
       "      <th>Time Spent on LG (in mins)</th>\n",
       "    </tr>\n",
       "  </thead>\n",
       "  <tbody>\n",
       "    <tr>\n",
       "      <th>count</th>\n",
       "      <td>82</td>\n",
       "      <td>48.000000</td>\n",
       "      <td>58.000000</td>\n",
       "    </tr>\n",
       "    <tr>\n",
       "      <th>mean</th>\n",
       "      <td>2023-02-05 22:49:45.365853696</td>\n",
       "      <td>6.541667</td>\n",
       "      <td>288.310345</td>\n",
       "    </tr>\n",
       "    <tr>\n",
       "      <th>min</th>\n",
       "      <td>2023-01-09 00:00:00</td>\n",
       "      <td>0.000000</td>\n",
       "      <td>0.000000</td>\n",
       "    </tr>\n",
       "    <tr>\n",
       "      <th>25%</th>\n",
       "      <td>2023-01-25 00:00:00</td>\n",
       "      <td>4.000000</td>\n",
       "      <td>300.000000</td>\n",
       "    </tr>\n",
       "    <tr>\n",
       "      <th>50%</th>\n",
       "      <td>2023-02-04 00:00:00</td>\n",
       "      <td>6.000000</td>\n",
       "      <td>300.000000</td>\n",
       "    </tr>\n",
       "    <tr>\n",
       "      <th>75%</th>\n",
       "      <td>2023-02-17 18:00:00</td>\n",
       "      <td>10.000000</td>\n",
       "      <td>360.000000</td>\n",
       "    </tr>\n",
       "    <tr>\n",
       "      <th>max</th>\n",
       "      <td>2023-03-10 00:00:00</td>\n",
       "      <td>15.000000</td>\n",
       "      <td>540.000000</td>\n",
       "    </tr>\n",
       "    <tr>\n",
       "      <th>std</th>\n",
       "      <td>NaN</td>\n",
       "      <td>4.135772</td>\n",
       "      <td>163.955194</td>\n",
       "    </tr>\n",
       "  </tbody>\n",
       "</table>\n",
       "</div>"
      ],
      "text/plain": [
       "                                Date  No of Leads  Time Spent on LG (in mins)\n",
       "count                             82    48.000000                   58.000000\n",
       "mean   2023-02-05 22:49:45.365853696     6.541667                  288.310345\n",
       "min              2023-01-09 00:00:00     0.000000                    0.000000\n",
       "25%              2023-01-25 00:00:00     4.000000                  300.000000\n",
       "50%              2023-02-04 00:00:00     6.000000                  300.000000\n",
       "75%              2023-02-17 18:00:00    10.000000                  360.000000\n",
       "max              2023-03-10 00:00:00    15.000000                  540.000000\n",
       "std                              NaN     4.135772                  163.955194"
      ]
     },
     "execution_count": 5,
     "metadata": {},
     "output_type": "execute_result"
    }
   ],
   "source": [
    "df_0.describe()"
   ]
  },
  {
   "cell_type": "code",
   "execution_count": 6,
   "id": "aac2e70b-796d-4d83-996d-3bf046b96fee",
   "metadata": {},
   "outputs": [
    {
     "name": "stdout",
     "output_type": "stream",
     "text": [
      "Date\n",
      "False    82\n",
      "Name: count, dtype: int64\n",
      "\n",
      "Day\n",
      "False    82\n",
      "Name: count, dtype: int64\n",
      "\n",
      "No of Leads\n",
      "False    48\n",
      "True     34\n",
      "Name: count, dtype: int64\n",
      "\n",
      "Time Spent on LG (in mins)\n",
      "False    58\n",
      "True     24\n",
      "Name: count, dtype: int64\n",
      "\n",
      "Attendance\n",
      "False    82\n",
      "Name: count, dtype: int64\n",
      "\n"
     ]
    }
   ],
   "source": [
    "# checking total missing values in columns\n",
    "for i in df_0.columns:\n",
    "    print(df_0[i].isnull().value_counts())\n",
    "    print()"
   ]
  },
  {
   "cell_type": "code",
   "execution_count": 7,
   "id": "651a58c2-1c29-4ad3-9e08-ffc7c9cf4465",
   "metadata": {},
   "outputs": [],
   "source": [
    "# filling missing values \n",
    "df_0['No of Leads'] = df_0['No of Leads'].fillna(df_0['No of Leads'].median()) "
   ]
  },
  {
   "cell_type": "code",
   "execution_count": 8,
   "id": "267c94f2-7b8e-4896-a008-25a6b341ffc2",
   "metadata": {},
   "outputs": [],
   "source": [
    "df_0['Time Spent on LG (in mins)'] = df_0['Time Spent on LG (in mins)'].fillna(int(df_0['Time Spent on LG (in mins)'].mean()))"
   ]
  },
  {
   "cell_type": "code",
   "execution_count": 9,
   "id": "1877c04b-fc72-4544-98ee-42bdd7f31adf",
   "metadata": {},
   "outputs": [
    {
     "data": {
      "text/html": [
       "<div>\n",
       "<style scoped>\n",
       "    .dataframe tbody tr th:only-of-type {\n",
       "        vertical-align: middle;\n",
       "    }\n",
       "\n",
       "    .dataframe tbody tr th {\n",
       "        vertical-align: top;\n",
       "    }\n",
       "\n",
       "    .dataframe thead th {\n",
       "        text-align: right;\n",
       "    }\n",
       "</style>\n",
       "<table border=\"1\" class=\"dataframe\">\n",
       "  <thead>\n",
       "    <tr style=\"text-align: right;\">\n",
       "      <th></th>\n",
       "      <th>Date</th>\n",
       "      <th>Day</th>\n",
       "      <th>No of Leads</th>\n",
       "      <th>Time Spent on LG (in mins)</th>\n",
       "      <th>Attendance</th>\n",
       "    </tr>\n",
       "  </thead>\n",
       "  <tbody>\n",
       "    <tr>\n",
       "      <th>0</th>\n",
       "      <td>2023-01-09</td>\n",
       "      <td>Monday</td>\n",
       "      <td>2.0</td>\n",
       "      <td>300.0</td>\n",
       "      <td>Present</td>\n",
       "    </tr>\n",
       "    <tr>\n",
       "      <th>1</th>\n",
       "      <td>2023-01-10</td>\n",
       "      <td>Tuesday</td>\n",
       "      <td>1.0</td>\n",
       "      <td>300.0</td>\n",
       "      <td>Present</td>\n",
       "    </tr>\n",
       "    <tr>\n",
       "      <th>2</th>\n",
       "      <td>2023-01-11</td>\n",
       "      <td>Wednesday</td>\n",
       "      <td>5.0</td>\n",
       "      <td>300.0</td>\n",
       "      <td>Present</td>\n",
       "    </tr>\n",
       "    <tr>\n",
       "      <th>3</th>\n",
       "      <td>2023-01-12</td>\n",
       "      <td>Thursday</td>\n",
       "      <td>4.0</td>\n",
       "      <td>300.0</td>\n",
       "      <td>Present</td>\n",
       "    </tr>\n",
       "    <tr>\n",
       "      <th>4</th>\n",
       "      <td>2023-01-13</td>\n",
       "      <td>Friday</td>\n",
       "      <td>5.0</td>\n",
       "      <td>300.0</td>\n",
       "      <td>Present</td>\n",
       "    </tr>\n",
       "  </tbody>\n",
       "</table>\n",
       "</div>"
      ],
      "text/plain": [
       "        Date        Day  No of Leads  Time Spent on LG (in mins) Attendance\n",
       "0 2023-01-09     Monday          2.0                       300.0    Present\n",
       "1 2023-01-10    Tuesday          1.0                       300.0    Present\n",
       "2 2023-01-11  Wednesday          5.0                       300.0    Present\n",
       "3 2023-01-12   Thursday          4.0                       300.0    Present\n",
       "4 2023-01-13     Friday          5.0                       300.0    Present"
      ]
     },
     "execution_count": 9,
     "metadata": {},
     "output_type": "execute_result"
    }
   ],
   "source": [
    "df_0.head()"
   ]
  },
  {
   "cell_type": "markdown",
   "id": "7a3e82dc-f09e-41eb-a039-d2f5c002fc41",
   "metadata": {},
   "source": [
    "#### Q2. File 1 attendance of ABC"
   ]
  },
  {
   "cell_type": "code",
   "execution_count": 10,
   "id": "ae0c9719-4e02-44e9-a531-a04e79b21d23",
   "metadata": {},
   "outputs": [
    {
     "data": {
      "image/png": "[encoded data removed]",
      "text/plain": [
       "<Figure size 500x400 with 1 Axes>"
      ]
     },
     "metadata": {},
     "output_type": "display_data"
    }
   ],
   "source": [
    "d0 = df_0['Attendance'].value_counts()\n",
    "plt.figure(figsize=(5,4)) \n",
    "plt.title(\"Attendance of Associate ABC\")\n",
    "ax = sns.barplot(x=d0.keys(),y=d0.values)\n",
    "for i in ax.containers:\n",
    "    ax.bar_label(i)"
   ]
  },
  {
   "cell_type": "markdown",
   "id": "bcc54f8b-7163-4f39-bf28-8c6d23c9fd93",
   "metadata": {},
   "source": [
    "#### Q3. Average leads generated per day"
   ]
  },
  {
   "cell_type": "code",
   "execution_count": 195,
   "id": "51cfddc3-1671-4b52-8d87-e9b3b85999f5",
   "metadata": {},
   "outputs": [
    {
     "data": {
      "text/plain": [
       "6.317073170731708"
      ]
     },
     "execution_count": 195,
     "metadata": {},
     "output_type": "execute_result"
    }
   ],
   "source": [
    "df_0['No of Leads'].mean()"
   ]
  },
  {
   "cell_type": "markdown",
   "id": "841f85a4-7c9e-4eb4-996a-e5a492e1f940",
   "metadata": {},
   "source": [
    "#### Q4. Average Time Spent per day"
   ]
  },
  {
   "cell_type": "code",
   "execution_count": 215,
   "id": "ea58f4fe-d1df-4f11-9bae-bca969cdcdb0",
   "metadata": {},
   "outputs": [
    {
     "data": {
      "text/plain": [
       "288.219512195122"
      ]
     },
     "execution_count": 215,
     "metadata": {},
     "output_type": "execute_result"
    }
   ],
   "source": [
    "df_0['Time Spent on LG (in mins)'].mean()"
   ]
  },
  {
   "cell_type": "markdown",
   "id": "4003f1ba-a09c-4811-9ef3-c6b630a388de",
   "metadata": {},
   "source": [
    "#### Q5. Conversion rate of leads generated per hour"
   ]
  },
  {
   "cell_type": "code",
   "execution_count": 248,
   "id": "cdcdf47d-a148-463a-bf47-cb4d3bd878d4",
   "metadata": {},
   "outputs": [
    {
     "name": "stdout",
     "output_type": "stream",
     "text": [
      "df_0_leads: 518.0\n",
      "df_0_hours: 393.9\n",
      "conversion_rate of Associate ABC: 1.3150545823813151\n"
     ]
    }
   ],
   "source": [
    "df_0_leads = df_0['No of Leads'].sum()\n",
    "df_0_hours = df_0['Time Spent on LG (in mins)'].sum()/60\n",
    "df_0_conversion_rate = (df_0_leads/df_0_hours)\n",
    "print(\"df_0_leads:\",df_0_leads)\n",
    "print(\"df_0_hours:\",df_0_hours)\n",
    "print(\"conversion_rate of Associate ABC:\",df_0_conversion_rate)"
   ]
  },
  {
   "cell_type": "markdown",
   "id": "929c5d92-3b16-446a-854c-aced7b18e8c0",
   "metadata": {},
   "source": [
    "#### Q6. Total leads generated over the time period"
   ]
  },
  {
   "cell_type": "code",
   "execution_count": 253,
   "id": "e022a6b2-ad27-463f-952a-058c12cfc0f1",
   "metadata": {},
   "outputs": [
    {
     "data": {
      "text/plain": [
       "518.0"
      ]
     },
     "execution_count": 253,
     "metadata": {},
     "output_type": "execute_result"
    }
   ],
   "source": [
    "df_0_total_leads = df_0['No of Leads'].sum()\n",
    "df_0_total_leads"
   ]
  },
  {
   "cell_type": "markdown",
   "id": "77ca9476-cbbf-4b6e-a9b3-eee078629406",
   "metadata": {},
   "source": [
    "## Working with file 2 Associate XYZ"
   ]
  },
  {
   "cell_type": "markdown",
   "id": "77c2f665-4bf4-4d5c-ae26-09e7e1565c7e",
   "metadata": {},
   "source": [
    "#### Q1. Basic statistics"
   ]
  },
  {
   "cell_type": "code",
   "execution_count": 196,
   "id": "7d63339b-21e5-4fc5-b84d-b0addb7527b5",
   "metadata": {},
   "outputs": [
    {
     "data": {
      "text/html": [
       "<div>\n",
       "<style scoped>\n",
       "    .dataframe tbody tr th:only-of-type {\n",
       "        vertical-align: middle;\n",
       "    }\n",
       "\n",
       "    .dataframe tbody tr th {\n",
       "        vertical-align: top;\n",
       "    }\n",
       "\n",
       "    .dataframe thead th {\n",
       "        text-align: right;\n",
       "    }\n",
       "</style>\n",
       "<table border=\"1\" class=\"dataframe\">\n",
       "  <thead>\n",
       "    <tr style=\"text-align: right;\">\n",
       "      <th></th>\n",
       "      <th>Date</th>\n",
       "      <th>Day</th>\n",
       "      <th>No of Leads</th>\n",
       "      <th>Time Spent on LG (in mins)</th>\n",
       "      <th>Attendance</th>\n",
       "    </tr>\n",
       "  </thead>\n",
       "  <tbody>\n",
       "    <tr>\n",
       "      <th>0</th>\n",
       "      <td>2023-01-09</td>\n",
       "      <td>Monday</td>\n",
       "      <td>10.0</td>\n",
       "      <td>180.0</td>\n",
       "      <td>Present</td>\n",
       "    </tr>\n",
       "    <tr>\n",
       "      <th>1</th>\n",
       "      <td>2023-01-10</td>\n",
       "      <td>Tuesday</td>\n",
       "      <td>15.0</td>\n",
       "      <td>300.0</td>\n",
       "      <td>Present</td>\n",
       "    </tr>\n",
       "    <tr>\n",
       "      <th>2</th>\n",
       "      <td>2023-01-11</td>\n",
       "      <td>Wednesday</td>\n",
       "      <td>11.0</td>\n",
       "      <td>300.0</td>\n",
       "      <td>Present</td>\n",
       "    </tr>\n",
       "    <tr>\n",
       "      <th>3</th>\n",
       "      <td>2023-01-12</td>\n",
       "      <td>Thursday</td>\n",
       "      <td>11.0</td>\n",
       "      <td>300.0</td>\n",
       "      <td>Present</td>\n",
       "    </tr>\n",
       "    <tr>\n",
       "      <th>4</th>\n",
       "      <td>2023-01-13</td>\n",
       "      <td>Friday</td>\n",
       "      <td>13.0</td>\n",
       "      <td>300.0</td>\n",
       "      <td>Present</td>\n",
       "    </tr>\n",
       "  </tbody>\n",
       "</table>\n",
       "</div>"
      ],
      "text/plain": [
       "        Date        Day  No of Leads  Time Spent on LG (in mins) Attendance\n",
       "0 2023-01-09     Monday         10.0                       180.0    Present\n",
       "1 2023-01-10    Tuesday         15.0                       300.0    Present\n",
       "2 2023-01-11  Wednesday         11.0                       300.0    Present\n",
       "3 2023-01-12   Thursday         11.0                       300.0    Present\n",
       "4 2023-01-13     Friday         13.0                       300.0    Present"
      ]
     },
     "execution_count": 196,
     "metadata": {},
     "output_type": "execute_result"
    }
   ],
   "source": [
    "df_1.head()"
   ]
  },
  {
   "cell_type": "code",
   "execution_count": 197,
   "id": "a32a01ae-2759-416e-8a2e-1dceb87aa7df",
   "metadata": {},
   "outputs": [
    {
     "data": {
      "text/plain": [
       "(61, 5)"
      ]
     },
     "execution_count": 197,
     "metadata": {},
     "output_type": "execute_result"
    }
   ],
   "source": [
    "df_1.shape"
   ]
  },
  {
   "cell_type": "code",
   "execution_count": 198,
   "id": "c364d304-b3bf-4055-9938-7d3c20e81f4a",
   "metadata": {},
   "outputs": [
    {
     "name": "stdout",
     "output_type": "stream",
     "text": [
      "<class 'pandas.core.frame.DataFrame'>\n",
      "RangeIndex: 61 entries, 0 to 60\n",
      "Data columns (total 5 columns):\n",
      " #   Column                      Non-Null Count  Dtype         \n",
      "---  ------                      --------------  -----         \n",
      " 0   Date                        61 non-null     datetime64[ns]\n",
      " 1   Day                         61 non-null     object        \n",
      " 2   No of Leads                 41 non-null     float64       \n",
      " 3   Time Spent on LG (in mins)  41 non-null     float64       \n",
      " 4   Attendance                  61 non-null     object        \n",
      "dtypes: datetime64[ns](1), float64(2), object(2)\n",
      "memory usage: 2.5+ KB\n"
     ]
    }
   ],
   "source": [
    "df_1.info()"
   ]
  },
  {
   "cell_type": "code",
   "execution_count": 199,
   "id": "5623568f-3d1d-4840-8a2a-a2b81951850d",
   "metadata": {},
   "outputs": [
    {
     "data": {
      "text/html": [
       "<div>\n",
       "<style scoped>\n",
       "    .dataframe tbody tr th:only-of-type {\n",
       "        vertical-align: middle;\n",
       "    }\n",
       "\n",
       "    .dataframe tbody tr th {\n",
       "        vertical-align: top;\n",
       "    }\n",
       "\n",
       "    .dataframe thead th {\n",
       "        text-align: right;\n",
       "    }\n",
       "</style>\n",
       "<table border=\"1\" class=\"dataframe\">\n",
       "  <thead>\n",
       "    <tr style=\"text-align: right;\">\n",
       "      <th></th>\n",
       "      <th>Date</th>\n",
       "      <th>No of Leads</th>\n",
       "      <th>Time Spent on LG (in mins)</th>\n",
       "    </tr>\n",
       "  </thead>\n",
       "  <tbody>\n",
       "    <tr>\n",
       "      <th>count</th>\n",
       "      <td>61</td>\n",
       "      <td>41.000000</td>\n",
       "      <td>41.000000</td>\n",
       "    </tr>\n",
       "    <tr>\n",
       "      <th>mean</th>\n",
       "      <td>2023-02-08 00:00:00</td>\n",
       "      <td>10.853659</td>\n",
       "      <td>387.073171</td>\n",
       "    </tr>\n",
       "    <tr>\n",
       "      <th>min</th>\n",
       "      <td>2023-01-09 00:00:00</td>\n",
       "      <td>7.000000</td>\n",
       "      <td>180.000000</td>\n",
       "    </tr>\n",
       "    <tr>\n",
       "      <th>25%</th>\n",
       "      <td>2023-01-24 00:00:00</td>\n",
       "      <td>9.000000</td>\n",
       "      <td>360.000000</td>\n",
       "    </tr>\n",
       "    <tr>\n",
       "      <th>50%</th>\n",
       "      <td>2023-02-08 00:00:00</td>\n",
       "      <td>10.000000</td>\n",
       "      <td>420.000000</td>\n",
       "    </tr>\n",
       "    <tr>\n",
       "      <th>75%</th>\n",
       "      <td>2023-02-23 00:00:00</td>\n",
       "      <td>13.000000</td>\n",
       "      <td>420.000000</td>\n",
       "    </tr>\n",
       "    <tr>\n",
       "      <th>max</th>\n",
       "      <td>2023-03-10 00:00:00</td>\n",
       "      <td>15.000000</td>\n",
       "      <td>600.000000</td>\n",
       "    </tr>\n",
       "    <tr>\n",
       "      <th>std</th>\n",
       "      <td>NaN</td>\n",
       "      <td>2.555005</td>\n",
       "      <td>82.651192</td>\n",
       "    </tr>\n",
       "  </tbody>\n",
       "</table>\n",
       "</div>"
      ],
      "text/plain": [
       "                      Date  No of Leads  Time Spent on LG (in mins)\n",
       "count                   61    41.000000                   41.000000\n",
       "mean   2023-02-08 00:00:00    10.853659                  387.073171\n",
       "min    2023-01-09 00:00:00     7.000000                  180.000000\n",
       "25%    2023-01-24 00:00:00     9.000000                  360.000000\n",
       "50%    2023-02-08 00:00:00    10.000000                  420.000000\n",
       "75%    2023-02-23 00:00:00    13.000000                  420.000000\n",
       "max    2023-03-10 00:00:00    15.000000                  600.000000\n",
       "std                    NaN     2.555005                   82.651192"
      ]
     },
     "execution_count": 199,
     "metadata": {},
     "output_type": "execute_result"
    }
   ],
   "source": [
    "df_1.describe()"
   ]
  },
  {
   "cell_type": "code",
   "execution_count": 200,
   "id": "cae344d3-ef7a-42b7-b652-9ea1cd8f32a9",
   "metadata": {},
   "outputs": [
    {
     "name": "stdout",
     "output_type": "stream",
     "text": [
      "Date\n",
      "False    61\n",
      "Name: count, dtype: int64\n",
      "\n",
      "Day\n",
      "False    61\n",
      "Name: count, dtype: int64\n",
      "\n",
      "No of Leads\n",
      "False    41\n",
      "True     20\n",
      "Name: count, dtype: int64\n",
      "\n",
      "Time Spent on LG (in mins)\n",
      "False    41\n",
      "True     20\n",
      "Name: count, dtype: int64\n",
      "\n",
      "Attendance\n",
      "False    61\n",
      "Name: count, dtype: int64\n",
      "\n"
     ]
    }
   ],
   "source": [
    "for i in df_1.columns:\n",
    "    print(df_1[i].isnull().value_counts())\n",
    "    print()"
   ]
  },
  {
   "cell_type": "code",
   "execution_count": 204,
   "id": "1214816b-305a-44ce-bbdb-4e415deee39a",
   "metadata": {},
   "outputs": [],
   "source": [
    "df_1['No of Leads'] = df_1['No of Leads'].fillna(df_1['No of Leads'].median())\n",
    "df_1['Time Spent on LG (in mins)'] = df_1['Time Spent on LG (in mins)'].fillna(df_1['Time Spent on LG (in mins)'].median())"
   ]
  },
  {
   "cell_type": "markdown",
   "id": "f1df9ff2-d900-43e4-a850-fe474139a604",
   "metadata": {},
   "source": [
    "#### Q2. File 2 Attendance of XYZ"
   ]
  },
  {
   "cell_type": "code",
   "execution_count": 205,
   "id": "0602c339-16b8-4e1e-aa62-c27081fe397a",
   "metadata": {},
   "outputs": [
    {
     "data": {
      "image/png": "[encoded data removed]",
      "text/plain": [
       "<Figure size 600x400 with 1 Axes>"
      ]
     },
     "metadata": {},
     "output_type": "display_data"
    }
   ],
   "source": [
    "d1 = df_1['Attendance'].value_counts()\n",
    "plt.figure(figsize=(6,4))\n",
    "plt.title(\"Attendance of Associate XYZ\")\n",
    "ax = sns.barplot(x=d1.keys(),y=d1.values)\n",
    "for i in ax.containers:\n",
    "    ax.bar_label(i)"
   ]
  },
  {
   "cell_type": "markdown",
   "id": "cf729fbc-6894-4e6d-bd87-4446e3b9f2d3",
   "metadata": {},
   "source": [
    "#### Q3. Average leads generated per day"
   ]
  },
  {
   "cell_type": "code",
   "execution_count": 206,
   "id": "1ca5183c-40f5-40de-81da-544d0f965760",
   "metadata": {},
   "outputs": [
    {
     "data": {
      "text/plain": [
       "10.573770491803279"
      ]
     },
     "execution_count": 206,
     "metadata": {},
     "output_type": "execute_result"
    }
   ],
   "source": [
    "df_1['No of Leads'].mean()"
   ]
  },
  {
   "cell_type": "markdown",
   "id": "01dbb6e9-d081-485e-9fb7-9b536808bf59",
   "metadata": {},
   "source": [
    "#### Q4. Average time spent per day"
   ]
  },
  {
   "cell_type": "code",
   "execution_count": 218,
   "id": "62c6c448-34db-4b42-9d78-58e7b7e9c52f",
   "metadata": {},
   "outputs": [
    {
     "data": {
      "text/plain": [
       "397.8688524590164"
      ]
     },
     "execution_count": 218,
     "metadata": {},
     "output_type": "execute_result"
    }
   ],
   "source": [
    "df_1['Time Spent on LG (in mins)'].mean()"
   ]
  },
  {
   "cell_type": "markdown",
   "id": "6de61c59-1b08-486b-a50b-386d25c37739",
   "metadata": {},
   "source": [
    "#### Q5. Conversion rate of leads generated per hour"
   ]
  },
  {
   "cell_type": "code",
   "execution_count": 249,
   "id": "8bcc3c8b-1f4d-49ef-a48b-bd3ee7ee7515",
   "metadata": {},
   "outputs": [
    {
     "name": "stdout",
     "output_type": "stream",
     "text": [
      "df_1_leads: 645.0\n",
      "df_1_hours: 404.5\n",
      "conversion_rate of Associate XYZ: 1.5945611866501854\n"
     ]
    }
   ],
   "source": [
    "df_1_leads = df_1['No of Leads'].sum()\n",
    "df_1_hours = df_1['Time Spent on LG (in mins)'].sum()/60\n",
    "df_1_conversion_rate = (df_1_leads/df_1_hours)\n",
    "print(\"df_1_leads:\",df_1_leads)\n",
    "print(\"df_1_hours:\",df_1_hours)\n",
    "print(\"conversion_rate of Associate XYZ:\",df_1_conversion_rate)"
   ]
  },
  {
   "cell_type": "markdown",
   "id": "1a82f8fc-3725-46e3-a4dd-af39f998d8c1",
   "metadata": {},
   "source": [
    "#### Q6. Total leads generated over the time period"
   ]
  },
  {
   "cell_type": "code",
   "execution_count": 252,
   "id": "d1c0ef19-4da7-4da6-9c92-88dfbc6be198",
   "metadata": {},
   "outputs": [
    {
     "data": {
      "text/plain": [
       "645.0"
      ]
     },
     "execution_count": 252,
     "metadata": {},
     "output_type": "execute_result"
    }
   ],
   "source": [
    "df_1_total_leads = df_1['No of Leads'].sum()\n",
    "df_1_total_leads"
   ]
  },
  {
   "cell_type": "markdown",
   "id": "1561395d-ecaf-4c05-b330-382d1e3dd242",
   "metadata": {},
   "source": [
    "## Working with file 3 Associate KLM"
   ]
  },
  {
   "cell_type": "markdown",
   "id": "8452a500-4867-4b1c-b12c-d7890207fe33",
   "metadata": {},
   "source": [
    "#### Q1. Basic statistics"
   ]
  },
  {
   "cell_type": "code",
   "execution_count": 255,
   "id": "f8400e59-412a-4dd6-8403-5c781a83326d",
   "metadata": {},
   "outputs": [
    {
     "data": {
      "text/html": [
       "<div>\n",
       "<style scoped>\n",
       "    .dataframe tbody tr th:only-of-type {\n",
       "        vertical-align: middle;\n",
       "    }\n",
       "\n",
       "    .dataframe tbody tr th {\n",
       "        vertical-align: top;\n",
       "    }\n",
       "\n",
       "    .dataframe thead th {\n",
       "        text-align: right;\n",
       "    }\n",
       "</style>\n",
       "<table border=\"1\" class=\"dataframe\">\n",
       "  <thead>\n",
       "    <tr style=\"text-align: right;\">\n",
       "      <th></th>\n",
       "      <th>Date</th>\n",
       "      <th>Day</th>\n",
       "      <th>No of Leads</th>\n",
       "      <th>Time Spent on LG</th>\n",
       "      <th>Attendance</th>\n",
       "    </tr>\n",
       "  </thead>\n",
       "  <tbody>\n",
       "    <tr>\n",
       "      <th>0</th>\n",
       "      <td>2023-01-09</td>\n",
       "      <td>Monday</td>\n",
       "      <td>6.0</td>\n",
       "      <td>540.0</td>\n",
       "      <td>Present</td>\n",
       "    </tr>\n",
       "    <tr>\n",
       "      <th>1</th>\n",
       "      <td>2023-01-10</td>\n",
       "      <td>Tuesday</td>\n",
       "      <td>9.0</td>\n",
       "      <td>540.0</td>\n",
       "      <td>Present</td>\n",
       "    </tr>\n",
       "    <tr>\n",
       "      <th>2</th>\n",
       "      <td>2023-01-11</td>\n",
       "      <td>Wednesday</td>\n",
       "      <td>NaN</td>\n",
       "      <td>NaN</td>\n",
       "      <td>Absent</td>\n",
       "    </tr>\n",
       "    <tr>\n",
       "      <th>3</th>\n",
       "      <td>2023-01-12</td>\n",
       "      <td>Thursday</td>\n",
       "      <td>11.0</td>\n",
       "      <td>540.0</td>\n",
       "      <td>Present</td>\n",
       "    </tr>\n",
       "    <tr>\n",
       "      <th>4</th>\n",
       "      <td>2023-01-13</td>\n",
       "      <td>Friday</td>\n",
       "      <td>16.0</td>\n",
       "      <td>540.0</td>\n",
       "      <td>Present</td>\n",
       "    </tr>\n",
       "  </tbody>\n",
       "</table>\n",
       "</div>"
      ],
      "text/plain": [
       "        Date        Day  No of Leads  Time Spent on LG Attendance\n",
       "0 2023-01-09     Monday          6.0             540.0    Present\n",
       "1 2023-01-10    Tuesday          9.0             540.0    Present\n",
       "2 2023-01-11  Wednesday          NaN               NaN     Absent\n",
       "3 2023-01-12   Thursday         11.0             540.0    Present\n",
       "4 2023-01-13     Friday         16.0             540.0    Present"
      ]
     },
     "execution_count": 255,
     "metadata": {},
     "output_type": "execute_result"
    }
   ],
   "source": [
    "df_2.head()"
   ]
  },
  {
   "cell_type": "code",
   "execution_count": 256,
   "id": "d5fcc25e-75f9-4d26-843c-f5889e867d1a",
   "metadata": {},
   "outputs": [
    {
     "data": {
      "text/plain": [
       "(124, 5)"
      ]
     },
     "execution_count": 256,
     "metadata": {},
     "output_type": "execute_result"
    }
   ],
   "source": [
    "df_2.shape"
   ]
  },
  {
   "cell_type": "code",
   "execution_count": 257,
   "id": "d79807ce-1ebc-4d33-98eb-e9d09dca37c0",
   "metadata": {},
   "outputs": [
    {
     "name": "stdout",
     "output_type": "stream",
     "text": [
      "<class 'pandas.core.frame.DataFrame'>\n",
      "RangeIndex: 124 entries, 0 to 123\n",
      "Data columns (total 5 columns):\n",
      " #   Column            Non-Null Count  Dtype         \n",
      "---  ------            --------------  -----         \n",
      " 0   Date              124 non-null    datetime64[ns]\n",
      " 1   Day               124 non-null    object        \n",
      " 2   No of Leads       110 non-null    float64       \n",
      " 3   Time Spent on LG  107 non-null    float64       \n",
      " 4   Attendance        124 non-null    object        \n",
      "dtypes: datetime64[ns](1), float64(2), object(2)\n",
      "memory usage: 5.0+ KB\n"
     ]
    }
   ],
   "source": [
    "df_2.info()"
   ]
  },
  {
   "cell_type": "code",
   "execution_count": 258,
   "id": "5859b1f7-2d9e-4522-a3ea-de945f79715f",
   "metadata": {},
   "outputs": [
    {
     "data": {
      "text/html": [
       "<div>\n",
       "<style scoped>\n",
       "    .dataframe tbody tr th:only-of-type {\n",
       "        vertical-align: middle;\n",
       "    }\n",
       "\n",
       "    .dataframe tbody tr th {\n",
       "        vertical-align: top;\n",
       "    }\n",
       "\n",
       "    .dataframe thead th {\n",
       "        text-align: right;\n",
       "    }\n",
       "</style>\n",
       "<table border=\"1\" class=\"dataframe\">\n",
       "  <thead>\n",
       "    <tr style=\"text-align: right;\">\n",
       "      <th></th>\n",
       "      <th>Date</th>\n",
       "      <th>No of Leads</th>\n",
       "      <th>Time Spent on LG</th>\n",
       "    </tr>\n",
       "  </thead>\n",
       "  <tbody>\n",
       "    <tr>\n",
       "      <th>count</th>\n",
       "      <td>124</td>\n",
       "      <td>110.000000</td>\n",
       "      <td>107.000000</td>\n",
       "    </tr>\n",
       "    <tr>\n",
       "      <th>mean</th>\n",
       "      <td>2023-03-11 12:00:00</td>\n",
       "      <td>9.736364</td>\n",
       "      <td>384.766355</td>\n",
       "    </tr>\n",
       "    <tr>\n",
       "      <th>min</th>\n",
       "      <td>2023-01-09 00:00:00</td>\n",
       "      <td>0.000000</td>\n",
       "      <td>180.000000</td>\n",
       "    </tr>\n",
       "    <tr>\n",
       "      <th>25%</th>\n",
       "      <td>2023-02-08 18:00:00</td>\n",
       "      <td>6.000000</td>\n",
       "      <td>300.000000</td>\n",
       "    </tr>\n",
       "    <tr>\n",
       "      <th>50%</th>\n",
       "      <td>2023-03-11 12:00:00</td>\n",
       "      <td>10.000000</td>\n",
       "      <td>360.000000</td>\n",
       "    </tr>\n",
       "    <tr>\n",
       "      <th>75%</th>\n",
       "      <td>2023-04-11 06:00:00</td>\n",
       "      <td>13.000000</td>\n",
       "      <td>450.000000</td>\n",
       "    </tr>\n",
       "    <tr>\n",
       "      <th>max</th>\n",
       "      <td>2023-05-12 00:00:00</td>\n",
       "      <td>23.000000</td>\n",
       "      <td>540.000000</td>\n",
       "    </tr>\n",
       "    <tr>\n",
       "      <th>std</th>\n",
       "      <td>NaN</td>\n",
       "      <td>4.355061</td>\n",
       "      <td>99.464090</td>\n",
       "    </tr>\n",
       "  </tbody>\n",
       "</table>\n",
       "</div>"
      ],
      "text/plain": [
       "                      Date  No of Leads  Time Spent on LG\n",
       "count                  124   110.000000        107.000000\n",
       "mean   2023-03-11 12:00:00     9.736364        384.766355\n",
       "min    2023-01-09 00:00:00     0.000000        180.000000\n",
       "25%    2023-02-08 18:00:00     6.000000        300.000000\n",
       "50%    2023-03-11 12:00:00    10.000000        360.000000\n",
       "75%    2023-04-11 06:00:00    13.000000        450.000000\n",
       "max    2023-05-12 00:00:00    23.000000        540.000000\n",
       "std                    NaN     4.355061         99.464090"
      ]
     },
     "execution_count": 258,
     "metadata": {},
     "output_type": "execute_result"
    }
   ],
   "source": [
    "df_2.describe()"
   ]
  },
  {
   "cell_type": "code",
   "execution_count": 259,
   "id": "da47ed34-f714-46f5-9d15-a0e9683ff48d",
   "metadata": {},
   "outputs": [
    {
     "name": "stdout",
     "output_type": "stream",
     "text": [
      "Date\n",
      "False    124\n",
      "Name: count, dtype: int64\n",
      "\n",
      "Day\n",
      "False    124\n",
      "Name: count, dtype: int64\n",
      "\n",
      "No of Leads\n",
      "False    110\n",
      "True      14\n",
      "Name: count, dtype: int64\n",
      "\n",
      "Time Spent on LG\n",
      "False    107\n",
      "True      17\n",
      "Name: count, dtype: int64\n",
      "\n",
      "Attendance\n",
      "False    124\n",
      "Name: count, dtype: int64\n",
      "\n"
     ]
    }
   ],
   "source": [
    "for i in df_2.columns:\n",
    "    print(df_2[i].isnull().value_counts())\n",
    "    print()"
   ]
  },
  {
   "cell_type": "code",
   "execution_count": 260,
   "id": "b17bfd28-066a-4cf7-b1f6-380e17b98472",
   "metadata": {},
   "outputs": [],
   "source": [
    "df_2['No of Leads'] = df_2['No of Leads'].fillna(df['No of Leads'].median())\n",
    "df_2['Time Spent on LG'] = df_2['Time Spent on LG'].fillna(df['Time Spent on LG'].median())"
   ]
  },
  {
   "cell_type": "markdown",
   "id": "78665ae0-f0a3-43d8-b9df-6267d67e0f63",
   "metadata": {},
   "source": [
    "#### Q2. File 3 Attendance of KLM"
   ]
  },
  {
   "cell_type": "code",
   "execution_count": 261,
   "id": "2a2bbb5b-347f-4201-8b0a-cf590d3350b9",
   "metadata": {
    "scrolled": true
   },
   "outputs": [
    {
     "data": {
      "image/png": "[encoded data removed]",
      "text/plain": [
       "<Figure size 600x400 with 1 Axes>"
      ]
     },
     "metadata": {},
     "output_type": "display_data"
    }
   ],
   "source": [
    "d2 = df_2['Attendance'].value_counts()\n",
    "plt.figure(figsize=(6,4))\n",
    "plt.title(\"Attendance of Associate KLM\")\n",
    "ax = sns.barplot(x=d2.keys(),y=d2.values)\n",
    "for i in ax.containers:\n",
    "    ax.bar_label(i)"
   ]
  },
  {
   "cell_type": "markdown",
   "id": "21e1dafb-da56-4906-a45e-18ec1107ab32",
   "metadata": {},
   "source": [
    "#### Q3. Average leads generated per day"
   ]
  },
  {
   "cell_type": "code",
   "execution_count": 262,
   "id": "e8b18ef2-525f-48e8-8e3c-7d547b2ce58a",
   "metadata": {},
   "outputs": [
    {
     "data": {
      "text/plain": [
       "9.766129032258064"
      ]
     },
     "execution_count": 262,
     "metadata": {},
     "output_type": "execute_result"
    }
   ],
   "source": [
    "df_2['No of Leads'].mean()"
   ]
  },
  {
   "cell_type": "markdown",
   "id": "cdbda7c1-df5b-4f08-8ffd-57fc190a233f",
   "metadata": {},
   "source": [
    "#### Q4. Average time spent per day "
   ]
  },
  {
   "cell_type": "code",
   "execution_count": 263,
   "id": "6041f253-986c-48d5-9f2c-fa051618ed17",
   "metadata": {},
   "outputs": [
    {
     "data": {
      "text/plain": [
       "384.66129032258067"
      ]
     },
     "execution_count": 263,
     "metadata": {},
     "output_type": "execute_result"
    }
   ],
   "source": [
    "df_2['Time Spent on LG'].mean()"
   ]
  },
  {
   "cell_type": "markdown",
   "id": "f51873ce-0cf9-4b0c-8b8b-903b74995258",
   "metadata": {},
   "source": [
    "#### Q5. Conversion rate of leads generated per hour"
   ]
  },
  {
   "cell_type": "code",
   "execution_count": 264,
   "id": "a47e2244-e709-4d80-b4c2-0d1a54cf2a11",
   "metadata": {},
   "outputs": [
    {
     "name": "stdout",
     "output_type": "stream",
     "text": [
      "leads: 1211.0\n",
      "hours: 794.9666666666667\n",
      "conversion_rate of Associate KLM: 1.5233343117111828\n"
     ]
    }
   ],
   "source": [
    "df_2_leads = df_2['No of Leads'].sum()\n",
    "df_2_hours = df_2['Time Spent on LG'].sum()/60\n",
    "df_2_conversion_rate = (df_2_leads/df_2_hours)\n",
    "print(\"leads:\",df_2_leads)\n",
    "print(\"hours:\",df_2_hours)\n",
    "print(\"conversion_rate of Associate KLM:\",df_2_conversion_rate)"
   ]
  },
  {
   "cell_type": "markdown",
   "id": "0ba90d90-9105-43e7-9031-ae82726c13b0",
   "metadata": {},
   "source": [
    "#### Q6. Total leads generated over the time period"
   ]
  },
  {
   "cell_type": "code",
   "execution_count": 265,
   "id": "8be30e24-0abd-4e8a-b69b-a309924697a1",
   "metadata": {},
   "outputs": [
    {
     "data": {
      "text/plain": [
       "1211.0"
      ]
     },
     "execution_count": 265,
     "metadata": {},
     "output_type": "execute_result"
    }
   ],
   "source": [
    "df_2_total_leads = df_2['No of Leads'].sum()\n",
    "df_2_total_leads"
   ]
  },
  {
   "cell_type": "code",
   "execution_count": null,
   "id": "9da251d6-bb61-4004-9c22-aff30561eb16",
   "metadata": {},
   "outputs": [],
   "source": []
  }
 ],
 "metadata": {
  "kernelspec": {
   "display_name": "Python 3 (ipykernel)",
   "language": "python",
   "name": "python3"
  },
  "language_info": {
   "codemirror_mode": {
    "name": "ipython",
    "version": 3
   },
   "file_extension": ".py",
   "mimetype": "text/x-python",
   "name": "python",
   "nbconvert_exporter": "python",
   "pygments_lexer": "ipython3",
   "version": "3.11.4"
  }
 },
 "nbformat": 4,
 "nbformat_minor": 5
}
